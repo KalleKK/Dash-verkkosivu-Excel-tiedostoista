{
 "cells": [
  {
   "cell_type": "code",
   "execution_count": null,
   "metadata": {},
   "outputs": [],
   "source": [
    "import dash as dash\n",
    "import dash_html_components as html\n",
    "import dash_core_components as dcc\n",
    "from dash.dependencies import Input,Output\n",
    "import plotly.express as px\n",
    "import dash_table\n",
    "import pandas as pd\n",
    "import requests\n"
   ]
  },
  {
   "cell_type": "code",
   "execution_count": null,
   "metadata": {},
   "outputs": [],
   "source": [
    "hakuurl=\"https://raw.githubusercontent.com/varmais/maakunnat/master/kunnat.geojson\"\n",
    "haku=requests.get(url=hakuurl, timeout=60000)\n",
    "geojson=haku.json()"
   ]
  },
  {
   "cell_type": "code",
   "execution_count": null,
   "metadata": {},
   "outputs": [],
   "source": [
    "df=pd.read_excel('Sukupuoliikä.xlsx')\n",
    "df"
   ]
  },
  {
   "cell_type": "code",
   "execution_count": null,
   "metadata": {},
   "outputs": [],
   "source": [
    "df2=pd.read_excel('2000-2019väestöyhteensä.xlsx')\n",
    "df2 = df2.melt(id_vars=[\"Alue\",\"Vuosi\"], value_vars=[\"Miehet Väestö 31.12.\", \"Naiset Väestö 31.12.\", \"Yhteensä Väestö 31.12.\"], var_name=\"sukupuoli\", value_name=\"henkilöt\")\n",
    "df2['Yhteensäerotus'] = df2['henkilöt'].diff()"
   ]
  },
  {
   "cell_type": "code",
   "execution_count": null,
   "metadata": {},
   "outputs": [],
   "source": [
    "df2['Sukupuoli']=df2['sukupuoli']\n",
    "df2 = df2[df2.Sukupuoli != \"Yhteensä Väestö 31.12.\"]\n",
    "df2"
   ]
  },
  {
   "cell_type": "code",
   "execution_count": null,
   "metadata": {},
   "outputs": [],
   "source": [
    "asdd=df2['henkilöt']\n",
    "asddd=asdd.pct_change()\n",
    "prosentuaalinenerotus = pd.DataFrame(asddd)\n",
    "prosentuaalinenerotus['pcterotus']=prosentuaalinenerotus['henkilöt']\n",
    "prosentuaalinenerotus = prosentuaalinenerotus.drop('henkilöt', 1)\n",
    "prosentuaalinenerotus"
   ]
  },
  {
   "cell_type": "code",
   "execution_count": null,
   "metadata": {},
   "outputs": [],
   "source": [
    "result = pd.concat([df2, prosentuaalinenerotus], axis=1)\n",
    "result"
   ]
  },
  {
   "cell_type": "code",
   "execution_count": null,
   "metadata": {},
   "outputs": [],
   "source": [
    "asdddd=result.round({'pcterotus': 5})\n",
    "result['pcterotus']=asdddd['pcterotus'] * 100\n",
    "result"
   ]
  },
  {
   "cell_type": "code",
   "execution_count": null,
   "metadata": {},
   "outputs": [],
   "source": [
    "df2['pcterotus']=result['pcterotus']\n",
    "df2"
   ]
  },
  {
   "cell_type": "code",
   "execution_count": null,
   "metadata": {},
   "outputs": [],
   "source": [
    "df3 = df[df.Sukupuoli != \"Yhteensä\"]\n",
    "df3=df3[df3.Ikä != \"Yhteensä\"]\n",
    "df3"
   ]
  },
  {
   "cell_type": "code",
   "execution_count": null,
   "metadata": {},
   "outputs": [],
   "source": [
    "df4=df2\n",
    "df4=df4[df4.Vuosi != 2000]"
   ]
  },
  {
   "cell_type": "code",
   "execution_count": null,
   "metadata": {},
   "outputs": [],
   "source": [
    "df4=df4[df4.sukupuoli != \"Yhteensä Väestö 31.12.\"]\n",
    "df4"
   ]
  },
  {
   "cell_type": "code",
   "execution_count": null,
   "metadata": {},
   "outputs": [],
   "source": [
    "Sukupuoli = df.Sukupuoli.unique()\n",
    "Ikä = df.Ikä.unique()\n",
    "Vuosi=df.Vuosi.unique()\n",
    "Alue=df.Alue.unique()\n"
   ]
  },
  {
   "cell_type": "code",
   "execution_count": null,
   "metadata": {
    "tags": []
   },
   "outputs": [],
   "source": [
    "external_stylesheets = ['https://codepen.io/chriddyp/pen/bWLwgP.css']\n",
    "app = dash.Dash(__name__, external_stylesheets=external_stylesheets)\n",
    "colors = {\n",
    "    \"graphBackground\": \"#F5F5F5\",\n",
    "    \"background\": \"#ffffff\",\n",
    "    \"text\": \"#123\"\n",
    "}\n",
    "\n",
    "\n",
    "app.layout=html.Div(children =[\n",
    "    html.H3(\"Kalle Karlsson, XAMK\"),\n",
    "    html.H1(\n",
    "        children='Verkkosivu visualisointeja varten',\n",
    "        style={\n",
    "            'textAlign': 'center','color': '#7FDBFF'}),\n",
    "    \n",
    "    html.Div([\n",
    "        html.H4('Hajontakaavio'),\n",
    "        dcc.Markdown('''\n",
    "            Tämä visualisaatio esittää kuntien populaation sukupuolittain ja vuosittain\n",
    "           \n",
    "            Datan lähde [Stat.fi](https://pxnet2.stat.fi/PXWeb/pxweb/fi/StatFin/StatFin__vrm__vaerak/statfin_vaerak_pxt_11re.px/).\n",
    "\n",
    "        \n",
    "            ''')]),\n",
    "    html.Div([\n",
    "        dcc.Dropdown(id=\"Ikä\", \n",
    "                     options=[{\"label\": x, \"value\": x} for x in Ikä], \n",
    "                     value=Ikä[0],\n",
    "                     clearable=False),\n",
    "        \n",
    "        dcc.Graph(id=\"graph\")],\n",
    "        \n",
    "        style={'width': '100%', 'display': 'inline-block'}),\n",
    "        \n",
    "    html.Div([    \n",
    "        html.H1(\"Choropleth kartta\"),\n",
    "        dcc.Markdown('''\n",
    "            Tämä visualisaatio esittää naisten ja miesten populaatio määrän muuttumisen prosentteina vuosittain. \n",
    "            \n",
    "            Datan lähde [Stat.fi](https://pxnet2.stat.fi/PXWeb/pxweb/fi/StatFin/StatFin__vrm__vaerak/statfin_vaerak_pxt_11re.px/).\n",
    "            \n",
    "        \n",
    "            ''')]),\n",
    "    html.Div([\n",
    "        dcc.Graph(id=\"graph2\", figure={}),\n",
    "       \n",
    "        dcc.Slider(id='slider',\n",
    "                   min=df2['Vuosi'][1],\n",
    "                   max=df2['Vuosi'].max(),\n",
    "                   value=df2['Vuosi'][1],\n",
    "                   marks={str(year): str(year) for year in df2['Vuosi'].unique()},\n",
    "                   step=None)],\n",
    "        \n",
    "        style={'width': '100%', 'display': 'inline-block'}),\n",
    "  \n",
    "    html.Div([    \n",
    "        html.H1(\"Animoitu pylväskaavio sekä aluekaavio\"),\n",
    "        dcc.Markdown('''\n",
    "            Tämä visualisaatio esittää ikäryhmien muutoksen vuosittain maakunnittain, sekä esittää vuosittaisen muutoksen väestössä sukupuolittain.\n",
    "        \n",
    "            ''')]),\n",
    "\n",
    "\n",
    "    html.Div([\n",
    "        dcc.Dropdown( id=\"dropdown\",\n",
    "                     options=[{\"label\": x, \"value\": x} for x in Alue],\n",
    "                     value=Alue[0],\n",
    "                     clearable=False),\n",
    "        \n",
    "            html.Div(children=[\n",
    "                dcc.Graph(id=\"graph3\", style={'width': '50%', 'display': 'inline-block'}),\n",
    "                dcc.Graph(id=\"graph4\", style={'width': '50%', 'display': 'inline-block'})])]),\n",
    "        \n",
    "        \n",
    "      html.Div([ \n",
    "        html.H1(\"Sankey diagrammi\"),\n",
    "        dcc.Markdown('''\n",
    "            Sankey diagrammi esittää maakuntien välisen muuttoliikkeen vuosittain ja sukupuolittain\n",
    "            \n",
    "            Datan lähde [Stat.fi](https://pxnet2.stat.fi/PXWeb/pxweb/fi/StatFin/StatFin__vrm__muutl/statfin_muutl_pxt_11a4.px/).\n",
    "        \n",
    "            '''),\n",
    "        html.Iframe(src=\"https://app.powerbi.com/view?r=eyJrIjoiYTY2NGE0N2MtMDQ3Yi00ZjZhLWE3ODItYThhNTJjYjU0NzY0IiwidCI6ImM4NTBmZTljLWI0NmMtNGIyZC1iODYzLTAxZmEyYTg5ODA2OCIsImMiOjh9\",\n",
    "                style={\"height\": \"1067px\", \"width\": \"100%\"})])\n",
    "])\n",
    "\n",
    " \n",
    "\n",
    "\n",
    "@app.callback(Output('graph','figure'), \n",
    "              Input('Ikä', 'value'))\n",
    "\n",
    "def display_selected_year(Ikä):\n",
    "    mask = df[\"Ikä\"] == Ikä\n",
    "    fig = px.scatter(df[mask], x=\"Vuosi\", y=\"Väestö\", color=\"Alue\",symbol=\"Sukupuoli\",log_x=True,\n",
    "                     labels={\"Sukupuoli\": \"Sukupuoli\"},width=1700, height=700, hover_name=\"Ikä\")\n",
    "    fig.update_traces(marker=dict(size=12,\n",
    "                              line=dict(width=2)),\n",
    "                  selector=dict(mode='markers'))\n",
    "    fig.update_traces(mode=\"markers\")\n",
    "    return fig\n",
    "\n",
    "    \n",
    "                    \n",
    "@app.callback(Output('graph2','figure'), \n",
    "              Input('slider', 'value'))\n",
    "\n",
    "def update_figure(selected_year):\n",
    "    filtered_df = df2[df2.Vuosi == selected_year]\n",
    "\n",
    "    fig=px.choropleth(filtered_df,width=1700, height=700, geojson=geojson, color=\"pcterotus\", \n",
    "                    locations=\"Alue\", featureidkey=\"properties.Kunta\",color_continuous_scale=\"Viridis\",\n",
    "                    projection=\"mercator\", facet_col=\"Sukupuoli\", title=\"Sukupuoli\",\n",
    "                    labels=dict(pcterotus=\"Vuosittainen muutos\", Alue=\"Maakunta\",range_color=[-5, 5]))\n",
    "    fig.update_geos(fitbounds=\"locations\", visible=False)\n",
    "    fig.update_layout(margin={\"r\":0,\"t\":0,\"l\":0,\"b\":0})\n",
    "    fig.update_layout(hovermode=\"x unified\")\n",
    "    \n",
    "\n",
    "\n",
    "    return fig\n",
    "\n",
    "@app.callback(\n",
    "    Output(\"graph3\", \"figure\"), \n",
    "    [Input(\"dropdown\", \"value\")])\n",
    "\n",
    "def update_bar_chart(Alue):\n",
    "    mask = df3[\"Alue\"] == Alue\n",
    "    fig = px.bar(df3[mask], x=\"Alue\", y=\"Väestö\", barmode=\"group\", facet_col=\"Sukupuoli\",\n",
    "                 color=\"Ikä\", height=700,\n",
    "                 animation_frame=\"Vuosi\", animation_group=\"Alue\",\n",
    "             category_orders={\"Ikä\": [\"Thur\", \"Fri\", \"Sat\", \"Sun\"],\n",
    "                              \"Sukupuoli\": [\"Lunch\", \"Dinner\"]})\n",
    "    fig.update_traces(marker_line_color='rgb(8,48,107)',\n",
    "                  marker_line_width=1.5, opacity=0.6)\n",
    "\n",
    "    return fig\n",
    "\n",
    "\n",
    "\n",
    "@app.callback(\n",
    "    Output(\"graph4\", \"figure\"), \n",
    "    [Input(\"dropdown\", \"value\")])\n",
    "\n",
    "def update_bar_chart(Alue):\n",
    "    mask = df4[\"Alue\"] == Alue\n",
    "    df = px.data.stocks(indexed=True)-1\n",
    "    fig = px.area(df4[mask], x=\"Vuosi\", y=\"Yhteensäerotus\", height=700, hover_name=\"henkilöt\", color=\"sukupuoli\")\n",
    "    \n",
    "    \n",
    "    \n",
    "    return fig\n",
    "\n",
    "app.run_server(port=8059)"
   ]
  },
  {
   "cell_type": "code",
   "execution_count": null,
   "metadata": {},
   "outputs": [],
   "source": []
  },
  {
   "cell_type": "code",
   "execution_count": null,
   "metadata": {},
   "outputs": [],
   "source": []
  },
  {
   "cell_type": "code",
   "execution_count": null,
   "metadata": {},
   "outputs": [],
   "source": []
  },
  {
   "cell_type": "code",
   "execution_count": null,
   "metadata": {},
   "outputs": [],
   "source": []
  },
  {
   "cell_type": "code",
   "execution_count": null,
   "metadata": {},
   "outputs": [],
   "source": []
  },
  {
   "cell_type": "code",
   "execution_count": null,
   "metadata": {},
   "outputs": [],
   "source": []
  },
  {
   "cell_type": "code",
   "execution_count": null,
   "metadata": {},
   "outputs": [],
   "source": []
  },
  {
   "cell_type": "code",
   "execution_count": null,
   "metadata": {},
   "outputs": [],
   "source": []
  },
  {
   "cell_type": "code",
   "execution_count": null,
   "metadata": {},
   "outputs": [],
   "source": []
  },
  {
   "cell_type": "code",
   "execution_count": null,
   "metadata": {},
   "outputs": [],
   "source": []
  },
  {
   "cell_type": "code",
   "execution_count": null,
   "metadata": {},
   "outputs": [],
   "source": []
  },
  {
   "cell_type": "code",
   "execution_count": null,
   "metadata": {},
   "outputs": [],
   "source": []
  }
 ],
 "metadata": {
  "kernelspec": {
   "display_name": "Python 3",
   "language": "python",
   "name": "python3"
  },
  "language_info": {
   "codemirror_mode": {
    "name": "ipython",
    "version": 3
   },
   "file_extension": ".py",
   "mimetype": "text/x-python",
   "name": "python",
   "nbconvert_exporter": "python",
   "pygments_lexer": "ipython3",
   "version": "3.7.10"
  },
  "widgets": {
   "application/vnd.jupyter.widget-state+json": {
    "state": {},
    "version_major": 2,
    "version_minor": 0
   }
  }
 },
 "nbformat": 4,
 "nbformat_minor": 4
}
